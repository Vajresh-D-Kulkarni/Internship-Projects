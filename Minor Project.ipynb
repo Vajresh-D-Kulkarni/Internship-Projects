{
 "cells": [
  {
   "cell_type": "markdown",
   "id": "b32ee84e",
   "metadata": {},
   "source": [
    "# Minor Project"
   ]
  },
  {
   "cell_type": "markdown",
   "id": "1c0db1e1",
   "metadata": {},
   "source": [
    "## Importing Libraries"
   ]
  },
  {
   "cell_type": "code",
   "execution_count": 1,
   "id": "6e1e71da",
   "metadata": {
    "tags": []
   },
   "outputs": [],
   "source": [
    "import pandas as pd\n",
    "import warnings\n",
    "warnings.filterwarnings('ignore')"
   ]
  },
  {
   "cell_type": "code",
   "execution_count": 2,
   "id": "fb0b67b3",
   "metadata": {},
   "outputs": [],
   "source": [
    "dataframe = pd.read_csv('used_car_dataset.csv')"
   ]
  },
  {
   "cell_type": "code",
   "execution_count": 3,
   "id": "e750bf0a",
   "metadata": {},
   "outputs": [
    {
     "data": {
      "text/html": [
       "<div>\n",
       "<style scoped>\n",
       "    .dataframe tbody tr th:only-of-type {\n",
       "        vertical-align: middle;\n",
       "    }\n",
       "\n",
       "    .dataframe tbody tr th {\n",
       "        vertical-align: top;\n",
       "    }\n",
       "\n",
       "    .dataframe thead th {\n",
       "        text-align: right;\n",
       "    }\n",
       "</style>\n",
       "<table border=\"1\" class=\"dataframe\">\n",
       "  <thead>\n",
       "    <tr style=\"text-align: right;\">\n",
       "      <th></th>\n",
       "      <th>car_name</th>\n",
       "      <th>car_price_in_rupees</th>\n",
       "      <th>kms_driven</th>\n",
       "      <th>fuel_type</th>\n",
       "      <th>city</th>\n",
       "      <th>year_of_manufacture</th>\n",
       "    </tr>\n",
       "  </thead>\n",
       "  <tbody>\n",
       "    <tr>\n",
       "      <th>0</th>\n",
       "      <td>Hyundai Grand i10 Magna 1.2 Kappa VTVT [2017-2...</td>\n",
       "      <td>₹ 4.45 Lakh</td>\n",
       "      <td>22,402 km</td>\n",
       "      <td>Petrol</td>\n",
       "      <td>Mumbai</td>\n",
       "      <td>2016</td>\n",
       "    </tr>\n",
       "    <tr>\n",
       "      <th>1</th>\n",
       "      <td>Maruti Suzuki Alto 800 Lxi</td>\n",
       "      <td>₹ 2.93 Lakh</td>\n",
       "      <td>10,344 km</td>\n",
       "      <td>Petrol</td>\n",
       "      <td>Kolkata</td>\n",
       "      <td>2019</td>\n",
       "    </tr>\n",
       "    <tr>\n",
       "      <th>2</th>\n",
       "      <td>Tata Safari XZ Plus New</td>\n",
       "      <td>₹ 22.49 Lakh</td>\n",
       "      <td>12,999 km</td>\n",
       "      <td>Diesel</td>\n",
       "      <td>Bangalore</td>\n",
       "      <td>2021</td>\n",
       "    </tr>\n",
       "    <tr>\n",
       "      <th>3</th>\n",
       "      <td>Maruti Suzuki Ciaz ZXI+</td>\n",
       "      <td>₹ 6.95 Lakh</td>\n",
       "      <td>45,000 km</td>\n",
       "      <td>Petrol</td>\n",
       "      <td>Thane</td>\n",
       "      <td>2016</td>\n",
       "    </tr>\n",
       "    <tr>\n",
       "      <th>4</th>\n",
       "      <td>Jeep Compass Sport Plus 1.4 Petrol [2019-2020]</td>\n",
       "      <td>₹ 12 Lakh</td>\n",
       "      <td>11,193 km</td>\n",
       "      <td>Petrol</td>\n",
       "      <td>Kolkata</td>\n",
       "      <td>2019</td>\n",
       "    </tr>\n",
       "  </tbody>\n",
       "</table>\n",
       "</div>"
      ],
      "text/plain": [
       "                                            car_name car_price_in_rupees  \\\n",
       "0  Hyundai Grand i10 Magna 1.2 Kappa VTVT [2017-2...         ₹ 4.45 Lakh   \n",
       "1                         Maruti Suzuki Alto 800 Lxi         ₹ 2.93 Lakh   \n",
       "2                            Tata Safari XZ Plus New        ₹ 22.49 Lakh   \n",
       "3                            Maruti Suzuki Ciaz ZXI+         ₹ 6.95 Lakh   \n",
       "4     Jeep Compass Sport Plus 1.4 Petrol [2019-2020]           ₹ 12 Lakh   \n",
       "\n",
       "  kms_driven fuel_type       city  year_of_manufacture  \n",
       "0  22,402 km    Petrol     Mumbai                 2016  \n",
       "1  10,344 km    Petrol    Kolkata                 2019  \n",
       "2  12,999 km    Diesel  Bangalore                 2021  \n",
       "3  45,000 km    Petrol      Thane                 2016  \n",
       "4  11,193 km    Petrol    Kolkata                 2019  "
      ]
     },
     "execution_count": 3,
     "metadata": {},
     "output_type": "execute_result"
    }
   ],
   "source": [
    "dataframe.head()"
   ]
  },
  {
   "cell_type": "code",
   "execution_count": 4,
   "id": "7602140b-cc7b-43e2-bb37-9ebdf983817b",
   "metadata": {},
   "outputs": [
    {
     "data": {
      "text/plain": [
       "car_name               0\n",
       "car_price_in_rupees    0\n",
       "kms_driven             0\n",
       "fuel_type              0\n",
       "city                   0\n",
       "year_of_manufacture    0\n",
       "dtype: int64"
      ]
     },
     "execution_count": 4,
     "metadata": {},
     "output_type": "execute_result"
    }
   ],
   "source": [
    "dataframe.isnull().sum()"
   ]
  },
  {
   "cell_type": "code",
   "execution_count": 5,
   "id": "207f42b2",
   "metadata": {},
   "outputs": [
    {
     "data": {
      "text/plain": [
       "0"
      ]
     },
     "execution_count": 5,
     "metadata": {},
     "output_type": "execute_result"
    }
   ],
   "source": [
    "dataframe.isnull().sum().sum()"
   ]
  },
  {
   "cell_type": "code",
   "execution_count": 6,
   "id": "9da36a5b-85cb-468c-84e0-861699e8d945",
   "metadata": {},
   "outputs": [
    {
     "data": {
      "text/plain": [
       "92"
      ]
     },
     "execution_count": 6,
     "metadata": {},
     "output_type": "execute_result"
    }
   ],
   "source": [
    "dataframe.duplicated().sum()"
   ]
  },
  {
   "cell_type": "code",
   "execution_count": 7,
   "id": "b62eab48",
   "metadata": {},
   "outputs": [
    {
     "data": {
      "text/plain": [
       "(2105, 6)"
      ]
     },
     "execution_count": 7,
     "metadata": {},
     "output_type": "execute_result"
    }
   ],
   "source": [
    "dataframe.shape"
   ]
  },
  {
   "cell_type": "code",
   "execution_count": 8,
   "id": "f35e5004-3246-4c18-a258-a66d0834d099",
   "metadata": {},
   "outputs": [],
   "source": [
    "dataframe.drop_duplicates(inplace=True)"
   ]
  },
  {
   "cell_type": "code",
   "execution_count": 9,
   "id": "7fc2644a-e5d9-4821-8a72-feb0265b7400",
   "metadata": {},
   "outputs": [
    {
     "data": {
      "text/plain": [
       "(2013, 6)"
      ]
     },
     "execution_count": 9,
     "metadata": {},
     "output_type": "execute_result"
    }
   ],
   "source": [
    "dataframe.shape"
   ]
  },
  {
   "cell_type": "code",
   "execution_count": 10,
   "id": "6fba8a74-1cf8-43e7-969c-a01693f60b81",
   "metadata": {},
   "outputs": [
    {
     "name": "stdout",
     "output_type": "stream",
     "text": [
      "<class 'pandas.core.frame.DataFrame'>\n",
      "Int64Index: 2013 entries, 0 to 2104\n",
      "Data columns (total 6 columns):\n",
      " #   Column               Non-Null Count  Dtype \n",
      "---  ------               --------------  ----- \n",
      " 0   car_name             2013 non-null   object\n",
      " 1   car_price_in_rupees  2013 non-null   object\n",
      " 2   kms_driven           2013 non-null   object\n",
      " 3   fuel_type            2013 non-null   object\n",
      " 4   city                 2013 non-null   object\n",
      " 5   year_of_manufacture  2013 non-null   int64 \n",
      "dtypes: int64(1), object(5)\n",
      "memory usage: 110.1+ KB\n"
     ]
    }
   ],
   "source": [
    "dataframe.info()"
   ]
  },
  {
   "cell_type": "code",
   "execution_count": 11,
   "id": "b8c75227-3bf9-4afd-8f00-a3dd3b16a254",
   "metadata": {},
   "outputs": [
    {
     "data": {
      "text/html": [
       "<div>\n",
       "<style scoped>\n",
       "    .dataframe tbody tr th:only-of-type {\n",
       "        vertical-align: middle;\n",
       "    }\n",
       "\n",
       "    .dataframe tbody tr th {\n",
       "        vertical-align: top;\n",
       "    }\n",
       "\n",
       "    .dataframe thead th {\n",
       "        text-align: right;\n",
       "    }\n",
       "</style>\n",
       "<table border=\"1\" class=\"dataframe\">\n",
       "  <thead>\n",
       "    <tr style=\"text-align: right;\">\n",
       "      <th></th>\n",
       "      <th>year_of_manufacture</th>\n",
       "    </tr>\n",
       "  </thead>\n",
       "  <tbody>\n",
       "    <tr>\n",
       "      <th>count</th>\n",
       "      <td>2013.000000</td>\n",
       "    </tr>\n",
       "    <tr>\n",
       "      <th>mean</th>\n",
       "      <td>2017.023845</td>\n",
       "    </tr>\n",
       "    <tr>\n",
       "      <th>std</th>\n",
       "      <td>2.823402</td>\n",
       "    </tr>\n",
       "    <tr>\n",
       "      <th>min</th>\n",
       "      <td>2004.000000</td>\n",
       "    </tr>\n",
       "    <tr>\n",
       "      <th>25%</th>\n",
       "      <td>2015.000000</td>\n",
       "    </tr>\n",
       "    <tr>\n",
       "      <th>50%</th>\n",
       "      <td>2017.000000</td>\n",
       "    </tr>\n",
       "    <tr>\n",
       "      <th>75%</th>\n",
       "      <td>2019.000000</td>\n",
       "    </tr>\n",
       "    <tr>\n",
       "      <th>max</th>\n",
       "      <td>2022.000000</td>\n",
       "    </tr>\n",
       "  </tbody>\n",
       "</table>\n",
       "</div>"
      ],
      "text/plain": [
       "       year_of_manufacture\n",
       "count          2013.000000\n",
       "mean           2017.023845\n",
       "std               2.823402\n",
       "min            2004.000000\n",
       "25%            2015.000000\n",
       "50%            2017.000000\n",
       "75%            2019.000000\n",
       "max            2022.000000"
      ]
     },
     "execution_count": 11,
     "metadata": {},
     "output_type": "execute_result"
    }
   ],
   "source": [
    "dataframe.describe()"
   ]
  },
  {
   "cell_type": "markdown",
   "id": "1ca1016b",
   "metadata": {},
   "source": [
    "## Data Preprocessing"
   ]
  },
  {
   "cell_type": "code",
   "execution_count": 12,
   "id": "efb25c4a-5c5a-4956-bf49-daa04943af40",
   "metadata": {},
   "outputs": [],
   "source": [
    "from sklearn.preprocessing import LabelEncoder\n",
    "encoder = LabelEncoder()"
   ]
  },
  {
   "cell_type": "code",
   "execution_count": 13,
   "id": "46083ae0-42c6-41bc-8fc5-6e00f4de3535",
   "metadata": {},
   "outputs": [],
   "source": [
    "dataframe['car_name']=encoder.fit_transform(dataframe['car_name'])"
   ]
  },
  {
   "cell_type": "code",
   "execution_count": 14,
   "id": "4bdf6df2-2312-424b-aa98-38ef99d12461",
   "metadata": {},
   "outputs": [
    {
     "data": {
      "text/html": [
       "<div>\n",
       "<style scoped>\n",
       "    .dataframe tbody tr th:only-of-type {\n",
       "        vertical-align: middle;\n",
       "    }\n",
       "\n",
       "    .dataframe tbody tr th {\n",
       "        vertical-align: top;\n",
       "    }\n",
       "\n",
       "    .dataframe thead th {\n",
       "        text-align: right;\n",
       "    }\n",
       "</style>\n",
       "<table border=\"1\" class=\"dataframe\">\n",
       "  <thead>\n",
       "    <tr style=\"text-align: right;\">\n",
       "      <th></th>\n",
       "      <th>car_name</th>\n",
       "      <th>car_price_in_rupees</th>\n",
       "      <th>kms_driven</th>\n",
       "      <th>fuel_type</th>\n",
       "      <th>city</th>\n",
       "      <th>year_of_manufacture</th>\n",
       "    </tr>\n",
       "  </thead>\n",
       "  <tbody>\n",
       "    <tr>\n",
       "      <th>0</th>\n",
       "      <td>276</td>\n",
       "      <td>₹ 4.45 Lakh</td>\n",
       "      <td>22,402 km</td>\n",
       "      <td>Petrol</td>\n",
       "      <td>Mumbai</td>\n",
       "      <td>2016</td>\n",
       "    </tr>\n",
       "    <tr>\n",
       "      <th>1</th>\n",
       "      <td>495</td>\n",
       "      <td>₹ 2.93 Lakh</td>\n",
       "      <td>10,344 km</td>\n",
       "      <td>Petrol</td>\n",
       "      <td>Kolkata</td>\n",
       "      <td>2019</td>\n",
       "    </tr>\n",
       "    <tr>\n",
       "      <th>2</th>\n",
       "      <td>830</td>\n",
       "      <td>₹ 22.49 Lakh</td>\n",
       "      <td>12,999 km</td>\n",
       "      <td>Diesel</td>\n",
       "      <td>Bangalore</td>\n",
       "      <td>2021</td>\n",
       "    </tr>\n",
       "    <tr>\n",
       "      <th>3</th>\n",
       "      <td>559</td>\n",
       "      <td>₹ 6.95 Lakh</td>\n",
       "      <td>45,000 km</td>\n",
       "      <td>Petrol</td>\n",
       "      <td>Thane</td>\n",
       "      <td>2016</td>\n",
       "    </tr>\n",
       "    <tr>\n",
       "      <th>4</th>\n",
       "      <td>383</td>\n",
       "      <td>₹ 12 Lakh</td>\n",
       "      <td>11,193 km</td>\n",
       "      <td>Petrol</td>\n",
       "      <td>Kolkata</td>\n",
       "      <td>2019</td>\n",
       "    </tr>\n",
       "  </tbody>\n",
       "</table>\n",
       "</div>"
      ],
      "text/plain": [
       "   car_name car_price_in_rupees kms_driven fuel_type       city  \\\n",
       "0       276         ₹ 4.45 Lakh  22,402 km    Petrol     Mumbai   \n",
       "1       495         ₹ 2.93 Lakh  10,344 km    Petrol    Kolkata   \n",
       "2       830        ₹ 22.49 Lakh  12,999 km    Diesel  Bangalore   \n",
       "3       559         ₹ 6.95 Lakh  45,000 km    Petrol      Thane   \n",
       "4       383           ₹ 12 Lakh  11,193 km    Petrol    Kolkata   \n",
       "\n",
       "   year_of_manufacture  \n",
       "0                 2016  \n",
       "1                 2019  \n",
       "2                 2021  \n",
       "3                 2016  \n",
       "4                 2019  "
      ]
     },
     "execution_count": 14,
     "metadata": {},
     "output_type": "execute_result"
    }
   ],
   "source": [
    "dataframe.head()"
   ]
  },
  {
   "cell_type": "code",
   "execution_count": 15,
   "id": "59c907ac-5eed-4abf-959c-9c9597cc7f2d",
   "metadata": {},
   "outputs": [],
   "source": [
    "dataframe['car_price_in_rupees'] = dataframe['car_price_in_rupees'].apply(lambda x:x.split('₹')[1])"
   ]
  },
  {
   "cell_type": "code",
   "execution_count": 16,
   "id": "e246e5f6-93a3-4649-9cba-07db13cf18da",
   "metadata": {},
   "outputs": [
    {
     "data": {
      "text/html": [
       "<div>\n",
       "<style scoped>\n",
       "    .dataframe tbody tr th:only-of-type {\n",
       "        vertical-align: middle;\n",
       "    }\n",
       "\n",
       "    .dataframe tbody tr th {\n",
       "        vertical-align: top;\n",
       "    }\n",
       "\n",
       "    .dataframe thead th {\n",
       "        text-align: right;\n",
       "    }\n",
       "</style>\n",
       "<table border=\"1\" class=\"dataframe\">\n",
       "  <thead>\n",
       "    <tr style=\"text-align: right;\">\n",
       "      <th></th>\n",
       "      <th>car_name</th>\n",
       "      <th>car_price_in_rupees</th>\n",
       "      <th>kms_driven</th>\n",
       "      <th>fuel_type</th>\n",
       "      <th>city</th>\n",
       "      <th>year_of_manufacture</th>\n",
       "    </tr>\n",
       "  </thead>\n",
       "  <tbody>\n",
       "    <tr>\n",
       "      <th>0</th>\n",
       "      <td>276</td>\n",
       "      <td>4.45 Lakh</td>\n",
       "      <td>22,402 km</td>\n",
       "      <td>Petrol</td>\n",
       "      <td>Mumbai</td>\n",
       "      <td>2016</td>\n",
       "    </tr>\n",
       "    <tr>\n",
       "      <th>1</th>\n",
       "      <td>495</td>\n",
       "      <td>2.93 Lakh</td>\n",
       "      <td>10,344 km</td>\n",
       "      <td>Petrol</td>\n",
       "      <td>Kolkata</td>\n",
       "      <td>2019</td>\n",
       "    </tr>\n",
       "  </tbody>\n",
       "</table>\n",
       "</div>"
      ],
      "text/plain": [
       "   car_name car_price_in_rupees kms_driven fuel_type     city  \\\n",
       "0       276           4.45 Lakh  22,402 km    Petrol   Mumbai   \n",
       "1       495           2.93 Lakh  10,344 km    Petrol  Kolkata   \n",
       "\n",
       "   year_of_manufacture  \n",
       "0                 2016  \n",
       "1                 2019  "
      ]
     },
     "execution_count": 16,
     "metadata": {},
     "output_type": "execute_result"
    }
   ],
   "source": [
    "dataframe.head(2)"
   ]
  },
  {
   "cell_type": "code",
   "execution_count": 17,
   "id": "507596a9-f67c-46ae-92eb-f69ff7fa43df",
   "metadata": {},
   "outputs": [],
   "source": [
    "dataframe['car_price_in_rupees'] = dataframe['car_price_in_rupees'].str.replace(' Lakh','000')"
   ]
  },
  {
   "cell_type": "code",
   "execution_count": 18,
   "id": "4033de5f-65cc-47b7-b991-3d94b64110a5",
   "metadata": {},
   "outputs": [],
   "source": [
    "dataframe['car_price_in_rupees'] = dataframe['car_price_in_rupees'].str.replace(' Crore','00000')"
   ]
  },
  {
   "cell_type": "code",
   "execution_count": 19,
   "id": "35ff6bc4-db0e-41e6-ab4b-2d34349d5283",
   "metadata": {},
   "outputs": [
    {
     "data": {
      "text/html": [
       "<div>\n",
       "<style scoped>\n",
       "    .dataframe tbody tr th:only-of-type {\n",
       "        vertical-align: middle;\n",
       "    }\n",
       "\n",
       "    .dataframe tbody tr th {\n",
       "        vertical-align: top;\n",
       "    }\n",
       "\n",
       "    .dataframe thead th {\n",
       "        text-align: right;\n",
       "    }\n",
       "</style>\n",
       "<table border=\"1\" class=\"dataframe\">\n",
       "  <thead>\n",
       "    <tr style=\"text-align: right;\">\n",
       "      <th></th>\n",
       "      <th>car_name</th>\n",
       "      <th>car_price_in_rupees</th>\n",
       "      <th>kms_driven</th>\n",
       "      <th>fuel_type</th>\n",
       "      <th>city</th>\n",
       "      <th>year_of_manufacture</th>\n",
       "    </tr>\n",
       "  </thead>\n",
       "  <tbody>\n",
       "    <tr>\n",
       "      <th>0</th>\n",
       "      <td>276</td>\n",
       "      <td>4.45000</td>\n",
       "      <td>22,402 km</td>\n",
       "      <td>Petrol</td>\n",
       "      <td>Mumbai</td>\n",
       "      <td>2016</td>\n",
       "    </tr>\n",
       "    <tr>\n",
       "      <th>1</th>\n",
       "      <td>495</td>\n",
       "      <td>2.93000</td>\n",
       "      <td>10,344 km</td>\n",
       "      <td>Petrol</td>\n",
       "      <td>Kolkata</td>\n",
       "      <td>2019</td>\n",
       "    </tr>\n",
       "  </tbody>\n",
       "</table>\n",
       "</div>"
      ],
      "text/plain": [
       "   car_name car_price_in_rupees kms_driven fuel_type     city  \\\n",
       "0       276             4.45000  22,402 km    Petrol   Mumbai   \n",
       "1       495             2.93000  10,344 km    Petrol  Kolkata   \n",
       "\n",
       "   year_of_manufacture  \n",
       "0                 2016  \n",
       "1                 2019  "
      ]
     },
     "execution_count": 19,
     "metadata": {},
     "output_type": "execute_result"
    }
   ],
   "source": [
    "dataframe.head(2)"
   ]
  },
  {
   "cell_type": "code",
   "execution_count": 20,
   "id": "960bb85f-74b1-406e-985b-aeb64558283f",
   "metadata": {},
   "outputs": [],
   "source": [
    "dataframe['car_price_in_rupees'] = dataframe['car_price_in_rupees'].str.replace('.','')"
   ]
  },
  {
   "cell_type": "code",
   "execution_count": 21,
   "id": "07644d76-e5df-4a47-a10e-87b82b0ab787",
   "metadata": {},
   "outputs": [
    {
     "data": {
      "text/html": [
       "<div>\n",
       "<style scoped>\n",
       "    .dataframe tbody tr th:only-of-type {\n",
       "        vertical-align: middle;\n",
       "    }\n",
       "\n",
       "    .dataframe tbody tr th {\n",
       "        vertical-align: top;\n",
       "    }\n",
       "\n",
       "    .dataframe thead th {\n",
       "        text-align: right;\n",
       "    }\n",
       "</style>\n",
       "<table border=\"1\" class=\"dataframe\">\n",
       "  <thead>\n",
       "    <tr style=\"text-align: right;\">\n",
       "      <th></th>\n",
       "      <th>car_name</th>\n",
       "      <th>car_price_in_rupees</th>\n",
       "      <th>kms_driven</th>\n",
       "      <th>fuel_type</th>\n",
       "      <th>city</th>\n",
       "      <th>year_of_manufacture</th>\n",
       "    </tr>\n",
       "  </thead>\n",
       "  <tbody>\n",
       "    <tr>\n",
       "      <th>0</th>\n",
       "      <td>276</td>\n",
       "      <td>445000</td>\n",
       "      <td>22,402 km</td>\n",
       "      <td>Petrol</td>\n",
       "      <td>Mumbai</td>\n",
       "      <td>2016</td>\n",
       "    </tr>\n",
       "    <tr>\n",
       "      <th>1</th>\n",
       "      <td>495</td>\n",
       "      <td>293000</td>\n",
       "      <td>10,344 km</td>\n",
       "      <td>Petrol</td>\n",
       "      <td>Kolkata</td>\n",
       "      <td>2019</td>\n",
       "    </tr>\n",
       "  </tbody>\n",
       "</table>\n",
       "</div>"
      ],
      "text/plain": [
       "   car_name car_price_in_rupees kms_driven fuel_type     city  \\\n",
       "0       276              445000  22,402 km    Petrol   Mumbai   \n",
       "1       495              293000  10,344 km    Petrol  Kolkata   \n",
       "\n",
       "   year_of_manufacture  \n",
       "0                 2016  \n",
       "1                 2019  "
      ]
     },
     "execution_count": 21,
     "metadata": {},
     "output_type": "execute_result"
    }
   ],
   "source": [
    "dataframe.head(2)"
   ]
  },
  {
   "cell_type": "code",
   "execution_count": 22,
   "id": "feeab353-8fd1-4e91-a9a4-aef716b6e662",
   "metadata": {},
   "outputs": [],
   "source": [
    "dataframe['kms_driven'] = dataframe['kms_driven'].str.split(' ').str[0]"
   ]
  },
  {
   "cell_type": "code",
   "execution_count": 23,
   "id": "a3eed3ed-4e1c-4c26-8a01-8458a675f855",
   "metadata": {},
   "outputs": [
    {
     "data": {
      "text/html": [
       "<div>\n",
       "<style scoped>\n",
       "    .dataframe tbody tr th:only-of-type {\n",
       "        vertical-align: middle;\n",
       "    }\n",
       "\n",
       "    .dataframe tbody tr th {\n",
       "        vertical-align: top;\n",
       "    }\n",
       "\n",
       "    .dataframe thead th {\n",
       "        text-align: right;\n",
       "    }\n",
       "</style>\n",
       "<table border=\"1\" class=\"dataframe\">\n",
       "  <thead>\n",
       "    <tr style=\"text-align: right;\">\n",
       "      <th></th>\n",
       "      <th>car_name</th>\n",
       "      <th>car_price_in_rupees</th>\n",
       "      <th>kms_driven</th>\n",
       "      <th>fuel_type</th>\n",
       "      <th>city</th>\n",
       "      <th>year_of_manufacture</th>\n",
       "    </tr>\n",
       "  </thead>\n",
       "  <tbody>\n",
       "    <tr>\n",
       "      <th>0</th>\n",
       "      <td>276</td>\n",
       "      <td>445000</td>\n",
       "      <td>22,402</td>\n",
       "      <td>Petrol</td>\n",
       "      <td>Mumbai</td>\n",
       "      <td>2016</td>\n",
       "    </tr>\n",
       "    <tr>\n",
       "      <th>1</th>\n",
       "      <td>495</td>\n",
       "      <td>293000</td>\n",
       "      <td>10,344</td>\n",
       "      <td>Petrol</td>\n",
       "      <td>Kolkata</td>\n",
       "      <td>2019</td>\n",
       "    </tr>\n",
       "  </tbody>\n",
       "</table>\n",
       "</div>"
      ],
      "text/plain": [
       "   car_name car_price_in_rupees kms_driven fuel_type     city  \\\n",
       "0       276              445000     22,402    Petrol   Mumbai   \n",
       "1       495              293000     10,344    Petrol  Kolkata   \n",
       "\n",
       "   year_of_manufacture  \n",
       "0                 2016  \n",
       "1                 2019  "
      ]
     },
     "execution_count": 23,
     "metadata": {},
     "output_type": "execute_result"
    }
   ],
   "source": [
    "dataframe.head(2)"
   ]
  },
  {
   "cell_type": "code",
   "execution_count": 24,
   "id": "f75e96dd-3d74-4b52-9851-073806085da6",
   "metadata": {},
   "outputs": [],
   "source": [
    "dataframe['kms_driven'] = dataframe['kms_driven'].str.replace(',','')"
   ]
  },
  {
   "cell_type": "code",
   "execution_count": 25,
   "id": "ffc2b2a5-e53f-4a4b-bca5-35abd47bc4e8",
   "metadata": {},
   "outputs": [
    {
     "data": {
      "text/html": [
       "<div>\n",
       "<style scoped>\n",
       "    .dataframe tbody tr th:only-of-type {\n",
       "        vertical-align: middle;\n",
       "    }\n",
       "\n",
       "    .dataframe tbody tr th {\n",
       "        vertical-align: top;\n",
       "    }\n",
       "\n",
       "    .dataframe thead th {\n",
       "        text-align: right;\n",
       "    }\n",
       "</style>\n",
       "<table border=\"1\" class=\"dataframe\">\n",
       "  <thead>\n",
       "    <tr style=\"text-align: right;\">\n",
       "      <th></th>\n",
       "      <th>car_name</th>\n",
       "      <th>car_price_in_rupees</th>\n",
       "      <th>kms_driven</th>\n",
       "      <th>fuel_type</th>\n",
       "      <th>city</th>\n",
       "      <th>year_of_manufacture</th>\n",
       "    </tr>\n",
       "  </thead>\n",
       "  <tbody>\n",
       "    <tr>\n",
       "      <th>0</th>\n",
       "      <td>276</td>\n",
       "      <td>445000</td>\n",
       "      <td>22402</td>\n",
       "      <td>Petrol</td>\n",
       "      <td>Mumbai</td>\n",
       "      <td>2016</td>\n",
       "    </tr>\n",
       "    <tr>\n",
       "      <th>1</th>\n",
       "      <td>495</td>\n",
       "      <td>293000</td>\n",
       "      <td>10344</td>\n",
       "      <td>Petrol</td>\n",
       "      <td>Kolkata</td>\n",
       "      <td>2019</td>\n",
       "    </tr>\n",
       "  </tbody>\n",
       "</table>\n",
       "</div>"
      ],
      "text/plain": [
       "   car_name car_price_in_rupees kms_driven fuel_type     city  \\\n",
       "0       276              445000      22402    Petrol   Mumbai   \n",
       "1       495              293000      10344    Petrol  Kolkata   \n",
       "\n",
       "   year_of_manufacture  \n",
       "0                 2016  \n",
       "1                 2019  "
      ]
     },
     "execution_count": 25,
     "metadata": {},
     "output_type": "execute_result"
    }
   ],
   "source": [
    "dataframe.head(2)"
   ]
  },
  {
   "cell_type": "markdown",
   "id": "0ae7b841",
   "metadata": {},
   "source": [
    "## Other Attribute Selection and Preprocessing"
   ]
  },
  {
   "cell_type": "code",
   "execution_count": 26,
   "id": "692fdac6-fb91-481d-80c5-2951f60d94c7",
   "metadata": {},
   "outputs": [
    {
     "data": {
      "text/plain": [
       "array([2016, 2019, 2021, 2017, 2013, 2018, 2007, 2022, 2014, 2020, 2015,\n",
       "       2009, 2011, 2010, 2012, 2008, 2006, 2004, 2005], dtype=int64)"
      ]
     },
     "execution_count": 26,
     "metadata": {},
     "output_type": "execute_result"
    }
   ],
   "source": [
    "dataframe['year_of_manufacture'].unique()"
   ]
  },
  {
   "cell_type": "code",
   "execution_count": 27,
   "id": "50472b2e-ba5a-44b7-9285-284f0965efc4",
   "metadata": {},
   "outputs": [
    {
     "data": {
      "text/plain": [
       "array(['Petrol', 'Diesel', 'Diesel + 1', 'Electric', 'CNG', 'Petrol + 1',\n",
       "       'Hybrid', 'LPG'], dtype=object)"
      ]
     },
     "execution_count": 27,
     "metadata": {},
     "output_type": "execute_result"
    }
   ],
   "source": [
    "dataframe['fuel_type'].unique()"
   ]
  },
  {
   "cell_type": "code",
   "execution_count": 28,
   "id": "31ae5589-f62f-4e66-8eaf-ee499af9f4c5",
   "metadata": {},
   "outputs": [
    {
     "data": {
      "text/plain": [
       "array(['Mumbai', 'Kolkata', 'Bangalore', 'Thane', 'Chennai', 'Ahmedabad',\n",
       "       'Pallikarnai', 'Hyderabad', 'Pune', 'Gurgaon', 'Delhi', 'Noida',\n",
       "       'Faridabad', 'Thiruvallur', 'Ambattur', 'Poonamallee'],\n",
       "      dtype=object)"
      ]
     },
     "execution_count": 28,
     "metadata": {},
     "output_type": "execute_result"
    }
   ],
   "source": [
    "dataframe['city'].unique()"
   ]
  },
  {
   "cell_type": "code",
   "execution_count": 29,
   "id": "32f36068-0030-47b0-8947-bc6ea6c4d36b",
   "metadata": {},
   "outputs": [],
   "source": [
    "dataframe['car_price_in_rupees'] = dataframe['car_price_in_rupees'].str.strip()"
   ]
  },
  {
   "cell_type": "code",
   "execution_count": 30,
   "id": "2589ce67-bdcb-4325-9b76-3817c329f3e6",
   "metadata": {
    "tags": []
   },
   "outputs": [],
   "source": [
    "dataframe['car_price_in_rupees'] = dataframe['car_price_in_rupees'].str.replace(',','')"
   ]
  },
  {
   "cell_type": "code",
   "execution_count": 31,
   "id": "dfcec4e3-742d-4b16-8479-3ab511462abe",
   "metadata": {},
   "outputs": [
    {
     "data": {
      "text/html": [
       "<div>\n",
       "<style scoped>\n",
       "    .dataframe tbody tr th:only-of-type {\n",
       "        vertical-align: middle;\n",
       "    }\n",
       "\n",
       "    .dataframe tbody tr th {\n",
       "        vertical-align: top;\n",
       "    }\n",
       "\n",
       "    .dataframe thead th {\n",
       "        text-align: right;\n",
       "    }\n",
       "</style>\n",
       "<table border=\"1\" class=\"dataframe\">\n",
       "  <thead>\n",
       "    <tr style=\"text-align: right;\">\n",
       "      <th></th>\n",
       "      <th>car_name</th>\n",
       "      <th>car_price_in_rupees</th>\n",
       "      <th>kms_driven</th>\n",
       "      <th>fuel_type</th>\n",
       "      <th>city</th>\n",
       "      <th>year_of_manufacture</th>\n",
       "    </tr>\n",
       "  </thead>\n",
       "  <tbody>\n",
       "    <tr>\n",
       "      <th>0</th>\n",
       "      <td>276</td>\n",
       "      <td>445000</td>\n",
       "      <td>22402</td>\n",
       "      <td>Petrol</td>\n",
       "      <td>Mumbai</td>\n",
       "      <td>2016</td>\n",
       "    </tr>\n",
       "    <tr>\n",
       "      <th>1</th>\n",
       "      <td>495</td>\n",
       "      <td>293000</td>\n",
       "      <td>10344</td>\n",
       "      <td>Petrol</td>\n",
       "      <td>Kolkata</td>\n",
       "      <td>2019</td>\n",
       "    </tr>\n",
       "    <tr>\n",
       "      <th>2</th>\n",
       "      <td>830</td>\n",
       "      <td>2249000</td>\n",
       "      <td>12999</td>\n",
       "      <td>Diesel</td>\n",
       "      <td>Bangalore</td>\n",
       "      <td>2021</td>\n",
       "    </tr>\n",
       "    <tr>\n",
       "      <th>3</th>\n",
       "      <td>559</td>\n",
       "      <td>695000</td>\n",
       "      <td>45000</td>\n",
       "      <td>Petrol</td>\n",
       "      <td>Thane</td>\n",
       "      <td>2016</td>\n",
       "    </tr>\n",
       "    <tr>\n",
       "      <th>4</th>\n",
       "      <td>383</td>\n",
       "      <td>12000</td>\n",
       "      <td>11193</td>\n",
       "      <td>Petrol</td>\n",
       "      <td>Kolkata</td>\n",
       "      <td>2019</td>\n",
       "    </tr>\n",
       "  </tbody>\n",
       "</table>\n",
       "</div>"
      ],
      "text/plain": [
       "   car_name car_price_in_rupees kms_driven fuel_type       city  \\\n",
       "0       276              445000      22402    Petrol     Mumbai   \n",
       "1       495              293000      10344    Petrol    Kolkata   \n",
       "2       830             2249000      12999    Diesel  Bangalore   \n",
       "3       559              695000      45000    Petrol      Thane   \n",
       "4       383               12000      11193    Petrol    Kolkata   \n",
       "\n",
       "   year_of_manufacture  \n",
       "0                 2016  \n",
       "1                 2019  \n",
       "2                 2021  \n",
       "3                 2016  \n",
       "4                 2019  "
      ]
     },
     "execution_count": 31,
     "metadata": {},
     "output_type": "execute_result"
    }
   ],
   "source": [
    "dataframe.head()"
   ]
  },
  {
   "cell_type": "code",
   "execution_count": 32,
   "id": "2c1c7554-a4d6-4b77-a7ac-8899fc8a3065",
   "metadata": {},
   "outputs": [
    {
     "data": {
      "text/html": [
       "<div>\n",
       "<style scoped>\n",
       "    .dataframe tbody tr th:only-of-type {\n",
       "        vertical-align: middle;\n",
       "    }\n",
       "\n",
       "    .dataframe tbody tr th {\n",
       "        vertical-align: top;\n",
       "    }\n",
       "\n",
       "    .dataframe thead th {\n",
       "        text-align: right;\n",
       "    }\n",
       "</style>\n",
       "<table border=\"1\" class=\"dataframe\">\n",
       "  <thead>\n",
       "    <tr style=\"text-align: right;\">\n",
       "      <th></th>\n",
       "      <th>car_name</th>\n",
       "      <th>car_price_in_rupees</th>\n",
       "      <th>kms_driven</th>\n",
       "      <th>fuel_type</th>\n",
       "      <th>city</th>\n",
       "      <th>year_of_manufacture</th>\n",
       "    </tr>\n",
       "  </thead>\n",
       "  <tbody>\n",
       "    <tr>\n",
       "      <th>0</th>\n",
       "      <td>276</td>\n",
       "      <td>445000</td>\n",
       "      <td>22402</td>\n",
       "      <td>Petrol</td>\n",
       "      <td>Mumbai</td>\n",
       "      <td>2016</td>\n",
       "    </tr>\n",
       "    <tr>\n",
       "      <th>1</th>\n",
       "      <td>495</td>\n",
       "      <td>293000</td>\n",
       "      <td>10344</td>\n",
       "      <td>Petrol</td>\n",
       "      <td>Kolkata</td>\n",
       "      <td>2019</td>\n",
       "    </tr>\n",
       "    <tr>\n",
       "      <th>2</th>\n",
       "      <td>830</td>\n",
       "      <td>2249000</td>\n",
       "      <td>12999</td>\n",
       "      <td>Diesel</td>\n",
       "      <td>Bangalore</td>\n",
       "      <td>2021</td>\n",
       "    </tr>\n",
       "    <tr>\n",
       "      <th>3</th>\n",
       "      <td>559</td>\n",
       "      <td>695000</td>\n",
       "      <td>45000</td>\n",
       "      <td>Petrol</td>\n",
       "      <td>Thane</td>\n",
       "      <td>2016</td>\n",
       "    </tr>\n",
       "    <tr>\n",
       "      <th>4</th>\n",
       "      <td>383</td>\n",
       "      <td>12000</td>\n",
       "      <td>11193</td>\n",
       "      <td>Petrol</td>\n",
       "      <td>Kolkata</td>\n",
       "      <td>2019</td>\n",
       "    </tr>\n",
       "  </tbody>\n",
       "</table>\n",
       "</div>"
      ],
      "text/plain": [
       "   car_name car_price_in_rupees kms_driven fuel_type       city  \\\n",
       "0       276              445000      22402    Petrol     Mumbai   \n",
       "1       495              293000      10344    Petrol    Kolkata   \n",
       "2       830             2249000      12999    Diesel  Bangalore   \n",
       "3       559              695000      45000    Petrol      Thane   \n",
       "4       383               12000      11193    Petrol    Kolkata   \n",
       "\n",
       "   year_of_manufacture  \n",
       "0                 2016  \n",
       "1                 2019  \n",
       "2                 2021  \n",
       "3                 2016  \n",
       "4                 2019  "
      ]
     },
     "execution_count": 32,
     "metadata": {},
     "output_type": "execute_result"
    }
   ],
   "source": [
    "dataframe.head()"
   ]
  },
  {
   "cell_type": "code",
   "execution_count": 33,
   "id": "2774a4c5-f850-426d-b4e7-61ac61ac32bc",
   "metadata": {
    "tags": []
   },
   "outputs": [],
   "source": [
    "dataframe['car_price_in_rupees'] = dataframe['car_price_in_rupees'].astype('int')\n",
    "dataframe['kms_driven'] = dataframe['kms_driven'].astype(int)"
   ]
  },
  {
   "cell_type": "code",
   "execution_count": 34,
   "id": "f018034a-1b4f-4fe2-96e6-e29b430a33ab",
   "metadata": {},
   "outputs": [
    {
     "data": {
      "text/html": [
       "<div>\n",
       "<style scoped>\n",
       "    .dataframe tbody tr th:only-of-type {\n",
       "        vertical-align: middle;\n",
       "    }\n",
       "\n",
       "    .dataframe tbody tr th {\n",
       "        vertical-align: top;\n",
       "    }\n",
       "\n",
       "    .dataframe thead th {\n",
       "        text-align: right;\n",
       "    }\n",
       "</style>\n",
       "<table border=\"1\" class=\"dataframe\">\n",
       "  <thead>\n",
       "    <tr style=\"text-align: right;\">\n",
       "      <th></th>\n",
       "      <th>car_name</th>\n",
       "      <th>car_price_in_rupees</th>\n",
       "      <th>kms_driven</th>\n",
       "      <th>fuel_type</th>\n",
       "      <th>city</th>\n",
       "      <th>year_of_manufacture</th>\n",
       "    </tr>\n",
       "  </thead>\n",
       "  <tbody>\n",
       "    <tr>\n",
       "      <th>0</th>\n",
       "      <td>276</td>\n",
       "      <td>445000</td>\n",
       "      <td>22402</td>\n",
       "      <td>Petrol</td>\n",
       "      <td>Mumbai</td>\n",
       "      <td>2016</td>\n",
       "    </tr>\n",
       "    <tr>\n",
       "      <th>1</th>\n",
       "      <td>495</td>\n",
       "      <td>293000</td>\n",
       "      <td>10344</td>\n",
       "      <td>Petrol</td>\n",
       "      <td>Kolkata</td>\n",
       "      <td>2019</td>\n",
       "    </tr>\n",
       "    <tr>\n",
       "      <th>2</th>\n",
       "      <td>830</td>\n",
       "      <td>2249000</td>\n",
       "      <td>12999</td>\n",
       "      <td>Diesel</td>\n",
       "      <td>Bangalore</td>\n",
       "      <td>2021</td>\n",
       "    </tr>\n",
       "    <tr>\n",
       "      <th>3</th>\n",
       "      <td>559</td>\n",
       "      <td>695000</td>\n",
       "      <td>45000</td>\n",
       "      <td>Petrol</td>\n",
       "      <td>Thane</td>\n",
       "      <td>2016</td>\n",
       "    </tr>\n",
       "    <tr>\n",
       "      <th>4</th>\n",
       "      <td>383</td>\n",
       "      <td>12000</td>\n",
       "      <td>11193</td>\n",
       "      <td>Petrol</td>\n",
       "      <td>Kolkata</td>\n",
       "      <td>2019</td>\n",
       "    </tr>\n",
       "  </tbody>\n",
       "</table>\n",
       "</div>"
      ],
      "text/plain": [
       "   car_name  car_price_in_rupees  kms_driven fuel_type       city  \\\n",
       "0       276               445000       22402    Petrol     Mumbai   \n",
       "1       495               293000       10344    Petrol    Kolkata   \n",
       "2       830              2249000       12999    Diesel  Bangalore   \n",
       "3       559               695000       45000    Petrol      Thane   \n",
       "4       383                12000       11193    Petrol    Kolkata   \n",
       "\n",
       "   year_of_manufacture  \n",
       "0                 2016  \n",
       "1                 2019  \n",
       "2                 2021  \n",
       "3                 2016  \n",
       "4                 2019  "
      ]
     },
     "execution_count": 34,
     "metadata": {},
     "output_type": "execute_result"
    }
   ],
   "source": [
    "dataframe.head()"
   ]
  },
  {
   "cell_type": "code",
   "execution_count": 35,
   "id": "4b6f1e95-37cc-4029-b3a1-a73105a10bbf",
   "metadata": {
    "tags": []
   },
   "outputs": [
    {
     "name": "stdout",
     "output_type": "stream",
     "text": [
      "<class 'pandas.core.frame.DataFrame'>\n",
      "Int64Index: 2013 entries, 0 to 2104\n",
      "Data columns (total 6 columns):\n",
      " #   Column               Non-Null Count  Dtype \n",
      "---  ------               --------------  ----- \n",
      " 0   car_name             2013 non-null   int32 \n",
      " 1   car_price_in_rupees  2013 non-null   int32 \n",
      " 2   kms_driven           2013 non-null   int32 \n",
      " 3   fuel_type            2013 non-null   object\n",
      " 4   city                 2013 non-null   object\n",
      " 5   year_of_manufacture  2013 non-null   int64 \n",
      "dtypes: int32(3), int64(1), object(2)\n",
      "memory usage: 86.5+ KB\n"
     ]
    }
   ],
   "source": [
    "dataframe.info()"
   ]
  },
  {
   "cell_type": "markdown",
   "id": "ffcd4067",
   "metadata": {},
   "source": [
    "## Visualization"
   ]
  },
  {
   "cell_type": "code",
   "execution_count": 36,
   "id": "de6f59ed-dbbf-494d-ac02-85c9f2e959e0",
   "metadata": {},
   "outputs": [],
   "source": [
    "import seaborn as sns"
   ]
  },
  {
   "cell_type": "code",
   "execution_count": 37,
   "id": "d3d9b5f4-72ff-45b2-93e2-7f3e3ca3ba7f",
   "metadata": {},
   "outputs": [],
   "source": [
    "dataframe['fuel_type']=encoder.fit_transform(dataframe['fuel_type'])"
   ]
  },
  {
   "cell_type": "code",
   "execution_count": 38,
   "id": "6cad8aad-49b3-43f4-9773-e2020fe60699",
   "metadata": {},
   "outputs": [],
   "source": [
    "dataframe['city']=encoder.fit_transform(dataframe['city'])"
   ]
  },
  {
   "cell_type": "code",
   "execution_count": 39,
   "id": "46b54900-a4e0-45c5-880f-d9bed4070d07",
   "metadata": {},
   "outputs": [
    {
     "data": {
      "text/html": [
       "<div>\n",
       "<style scoped>\n",
       "    .dataframe tbody tr th:only-of-type {\n",
       "        vertical-align: middle;\n",
       "    }\n",
       "\n",
       "    .dataframe tbody tr th {\n",
       "        vertical-align: top;\n",
       "    }\n",
       "\n",
       "    .dataframe thead th {\n",
       "        text-align: right;\n",
       "    }\n",
       "</style>\n",
       "<table border=\"1\" class=\"dataframe\">\n",
       "  <thead>\n",
       "    <tr style=\"text-align: right;\">\n",
       "      <th></th>\n",
       "      <th>car_name</th>\n",
       "      <th>car_price_in_rupees</th>\n",
       "      <th>kms_driven</th>\n",
       "      <th>fuel_type</th>\n",
       "      <th>city</th>\n",
       "      <th>year_of_manufacture</th>\n",
       "    </tr>\n",
       "  </thead>\n",
       "  <tbody>\n",
       "    <tr>\n",
       "      <th>0</th>\n",
       "      <td>276</td>\n",
       "      <td>445000</td>\n",
       "      <td>22402</td>\n",
       "      <td>6</td>\n",
       "      <td>9</td>\n",
       "      <td>2016</td>\n",
       "    </tr>\n",
       "    <tr>\n",
       "      <th>1</th>\n",
       "      <td>495</td>\n",
       "      <td>293000</td>\n",
       "      <td>10344</td>\n",
       "      <td>6</td>\n",
       "      <td>8</td>\n",
       "      <td>2019</td>\n",
       "    </tr>\n",
       "    <tr>\n",
       "      <th>2</th>\n",
       "      <td>830</td>\n",
       "      <td>2249000</td>\n",
       "      <td>12999</td>\n",
       "      <td>1</td>\n",
       "      <td>2</td>\n",
       "      <td>2021</td>\n",
       "    </tr>\n",
       "    <tr>\n",
       "      <th>3</th>\n",
       "      <td>559</td>\n",
       "      <td>695000</td>\n",
       "      <td>45000</td>\n",
       "      <td>6</td>\n",
       "      <td>14</td>\n",
       "      <td>2016</td>\n",
       "    </tr>\n",
       "    <tr>\n",
       "      <th>4</th>\n",
       "      <td>383</td>\n",
       "      <td>12000</td>\n",
       "      <td>11193</td>\n",
       "      <td>6</td>\n",
       "      <td>8</td>\n",
       "      <td>2019</td>\n",
       "    </tr>\n",
       "  </tbody>\n",
       "</table>\n",
       "</div>"
      ],
      "text/plain": [
       "   car_name  car_price_in_rupees  kms_driven  fuel_type  city  \\\n",
       "0       276               445000       22402          6     9   \n",
       "1       495               293000       10344          6     8   \n",
       "2       830              2249000       12999          1     2   \n",
       "3       559               695000       45000          6    14   \n",
       "4       383                12000       11193          6     8   \n",
       "\n",
       "   year_of_manufacture  \n",
       "0                 2016  \n",
       "1                 2019  \n",
       "2                 2021  \n",
       "3                 2016  \n",
       "4                 2019  "
      ]
     },
     "execution_count": 39,
     "metadata": {},
     "output_type": "execute_result"
    }
   ],
   "source": [
    "dataframe.head()"
   ]
  },
  {
   "cell_type": "code",
   "execution_count": 40,
   "id": "73d2250c-90e3-4929-b6e3-051e9d7a6e60",
   "metadata": {},
   "outputs": [
    {
     "data": {
      "text/plain": [
       "<AxesSubplot:>"
      ]
     },
     "execution_count": 40,
     "metadata": {},
     "output_type": "execute_result"
    },
    {
     "data": {
      "image/png": "[encoded data removed]",
      "text/plain": [
       "<Figure size 1200x800 with 2 Axes>"
      ]
     },
     "metadata": {},
     "output_type": "display_data"
    }
   ],
   "source": [
    "import matplotlib.pyplot as plt\n",
    "fig = plt.figure(figsize=(12,8))\n",
    "sns.heatmap(dataframe.corr(),annot=True)"
   ]
  },
  {
   "cell_type": "code",
   "execution_count": 41,
   "id": "8f4cde63-63a6-4668-8184-d12e69d75acb",
   "metadata": {},
   "outputs": [
    {
     "data": {
      "text/plain": [
       "(2013, 6)"
      ]
     },
     "execution_count": 41,
     "metadata": {},
     "output_type": "execute_result"
    }
   ],
   "source": [
    "dataframe.shape"
   ]
  },
  {
   "cell_type": "code",
   "execution_count": 42,
   "id": "8caff0de",
   "metadata": {},
   "outputs": [
    {
     "data": {
      "text/plain": [
       "car_name               0\n",
       "car_price_in_rupees    0\n",
       "kms_driven             0\n",
       "fuel_type              0\n",
       "city                   0\n",
       "year_of_manufacture    0\n",
       "dtype: int64"
      ]
     },
     "execution_count": 42,
     "metadata": {},
     "output_type": "execute_result"
    }
   ],
   "source": [
    "dataframe.isna().sum()"
   ]
  },
  {
   "cell_type": "code",
   "execution_count": 43,
   "id": "7837b5b2-19c3-4184-bd81-3ebfbcbea429",
   "metadata": {},
   "outputs": [
    {
     "data": {
      "text/html": [
       "<div>\n",
       "<style scoped>\n",
       "    .dataframe tbody tr th:only-of-type {\n",
       "        vertical-align: middle;\n",
       "    }\n",
       "\n",
       "    .dataframe tbody tr th {\n",
       "        vertical-align: top;\n",
       "    }\n",
       "\n",
       "    .dataframe thead th {\n",
       "        text-align: right;\n",
       "    }\n",
       "</style>\n",
       "<table border=\"1\" class=\"dataframe\">\n",
       "  <thead>\n",
       "    <tr style=\"text-align: right;\">\n",
       "      <th></th>\n",
       "      <th>car_name</th>\n",
       "      <th>car_price_in_rupees</th>\n",
       "      <th>kms_driven</th>\n",
       "      <th>fuel_type</th>\n",
       "      <th>city</th>\n",
       "      <th>year_of_manufacture</th>\n",
       "    </tr>\n",
       "  </thead>\n",
       "  <tbody>\n",
       "  </tbody>\n",
       "</table>\n",
       "</div>"
      ],
      "text/plain": [
       "Empty DataFrame\n",
       "Columns: [car_name, car_price_in_rupees, kms_driven, fuel_type, city, year_of_manufacture]\n",
       "Index: []"
      ]
     },
     "execution_count": 43,
     "metadata": {},
     "output_type": "execute_result"
    }
   ],
   "source": [
    "dataframe[dataframe.duplicated()]"
   ]
  },
  {
   "cell_type": "code",
   "execution_count": 44,
   "id": "b80260e9-f03f-45cb-9a67-92bad6e0d180",
   "metadata": {},
   "outputs": [],
   "source": [
    "X = dataframe.drop(columns=['car_price_in_rupees'],axis=1)\n",
    "y = dataframe[['car_price_in_rupees']]"
   ]
  },
  {
   "cell_type": "code",
   "execution_count": 45,
   "id": "83d8fb32-237f-4668-8937-4fdb967abf2c",
   "metadata": {},
   "outputs": [
    {
     "data": {
      "text/html": [
       "<div>\n",
       "<style scoped>\n",
       "    .dataframe tbody tr th:only-of-type {\n",
       "        vertical-align: middle;\n",
       "    }\n",
       "\n",
       "    .dataframe tbody tr th {\n",
       "        vertical-align: top;\n",
       "    }\n",
       "\n",
       "    .dataframe thead th {\n",
       "        text-align: right;\n",
       "    }\n",
       "</style>\n",
       "<table border=\"1\" class=\"dataframe\">\n",
       "  <thead>\n",
       "    <tr style=\"text-align: right;\">\n",
       "      <th></th>\n",
       "      <th>car_name</th>\n",
       "      <th>kms_driven</th>\n",
       "      <th>fuel_type</th>\n",
       "      <th>city</th>\n",
       "      <th>year_of_manufacture</th>\n",
       "    </tr>\n",
       "  </thead>\n",
       "  <tbody>\n",
       "    <tr>\n",
       "      <th>0</th>\n",
       "      <td>276</td>\n",
       "      <td>22402</td>\n",
       "      <td>6</td>\n",
       "      <td>9</td>\n",
       "      <td>2016</td>\n",
       "    </tr>\n",
       "    <tr>\n",
       "      <th>1</th>\n",
       "      <td>495</td>\n",
       "      <td>10344</td>\n",
       "      <td>6</td>\n",
       "      <td>8</td>\n",
       "      <td>2019</td>\n",
       "    </tr>\n",
       "    <tr>\n",
       "      <th>2</th>\n",
       "      <td>830</td>\n",
       "      <td>12999</td>\n",
       "      <td>1</td>\n",
       "      <td>2</td>\n",
       "      <td>2021</td>\n",
       "    </tr>\n",
       "    <tr>\n",
       "      <th>3</th>\n",
       "      <td>559</td>\n",
       "      <td>45000</td>\n",
       "      <td>6</td>\n",
       "      <td>14</td>\n",
       "      <td>2016</td>\n",
       "    </tr>\n",
       "    <tr>\n",
       "      <th>4</th>\n",
       "      <td>383</td>\n",
       "      <td>11193</td>\n",
       "      <td>6</td>\n",
       "      <td>8</td>\n",
       "      <td>2019</td>\n",
       "    </tr>\n",
       "  </tbody>\n",
       "</table>\n",
       "</div>"
      ],
      "text/plain": [
       "   car_name  kms_driven  fuel_type  city  year_of_manufacture\n",
       "0       276       22402          6     9                 2016\n",
       "1       495       10344          6     8                 2019\n",
       "2       830       12999          1     2                 2021\n",
       "3       559       45000          6    14                 2016\n",
       "4       383       11193          6     8                 2019"
      ]
     },
     "execution_count": 45,
     "metadata": {},
     "output_type": "execute_result"
    }
   ],
   "source": [
    "X.head()"
   ]
  },
  {
   "cell_type": "code",
   "execution_count": 46,
   "id": "bc285978-3db9-4968-94f2-df21992e51f3",
   "metadata": {},
   "outputs": [
    {
     "data": {
      "text/html": [
       "<div>\n",
       "<style scoped>\n",
       "    .dataframe tbody tr th:only-of-type {\n",
       "        vertical-align: middle;\n",
       "    }\n",
       "\n",
       "    .dataframe tbody tr th {\n",
       "        vertical-align: top;\n",
       "    }\n",
       "\n",
       "    .dataframe thead th {\n",
       "        text-align: right;\n",
       "    }\n",
       "</style>\n",
       "<table border=\"1\" class=\"dataframe\">\n",
       "  <thead>\n",
       "    <tr style=\"text-align: right;\">\n",
       "      <th></th>\n",
       "      <th>car_price_in_rupees</th>\n",
       "    </tr>\n",
       "  </thead>\n",
       "  <tbody>\n",
       "    <tr>\n",
       "      <th>0</th>\n",
       "      <td>445000</td>\n",
       "    </tr>\n",
       "    <tr>\n",
       "      <th>1</th>\n",
       "      <td>293000</td>\n",
       "    </tr>\n",
       "    <tr>\n",
       "      <th>2</th>\n",
       "      <td>2249000</td>\n",
       "    </tr>\n",
       "    <tr>\n",
       "      <th>3</th>\n",
       "      <td>695000</td>\n",
       "    </tr>\n",
       "    <tr>\n",
       "      <th>4</th>\n",
       "      <td>12000</td>\n",
       "    </tr>\n",
       "  </tbody>\n",
       "</table>\n",
       "</div>"
      ],
      "text/plain": [
       "   car_price_in_rupees\n",
       "0               445000\n",
       "1               293000\n",
       "2              2249000\n",
       "3               695000\n",
       "4                12000"
      ]
     },
     "execution_count": 46,
     "metadata": {},
     "output_type": "execute_result"
    }
   ],
   "source": [
    "y.head()"
   ]
  },
  {
   "cell_type": "markdown",
   "id": "cdf128ed",
   "metadata": {},
   "source": [
    "## Model Selection, Evaluation and Testing"
   ]
  },
  {
   "cell_type": "code",
   "execution_count": 47,
   "id": "fb2bd43d-969d-4206-85d3-efe78aea4c29",
   "metadata": {},
   "outputs": [],
   "source": [
    "from sklearn.model_selection import train_test_split"
   ]
  },
  {
   "cell_type": "code",
   "execution_count": 48,
   "id": "8e1d4950-dc4b-41b2-8555-45e1273ff21e",
   "metadata": {},
   "outputs": [],
   "source": [
    "X_train,X_test,y_train,y_test = train_test_split(X,y,test_size=1/4,random_state=0)"
   ]
  },
  {
   "cell_type": "code",
   "execution_count": 49,
   "id": "b082fd5a-aa83-44ee-8069-ba7849178f29",
   "metadata": {},
   "outputs": [
    {
     "data": {
      "text/plain": [
       "((1509, 5), (504, 5), (1509, 1), (504, 1))"
      ]
     },
     "execution_count": 49,
     "metadata": {},
     "output_type": "execute_result"
    }
   ],
   "source": [
    "X_train.shape,X_test.shape,y_train.shape,y_test.shape"
   ]
  },
  {
   "cell_type": "code",
   "execution_count": 50,
   "id": "897a797f-69a2-42f3-8dee-21ef088a861d",
   "metadata": {},
   "outputs": [],
   "source": [
    "from sklearn.linear_model import LogisticRegression\n",
    "reg = LogisticRegression()\n",
    "from sklearn.tree import DecisionTreeClassifier\n",
    "tree = DecisionTreeClassifier()"
   ]
  },
  {
   "cell_type": "code",
   "execution_count": 51,
   "id": "ed7fd2d8",
   "metadata": {},
   "outputs": [],
   "source": [
    "from sklearn.naive_bayes import GaussianNB\n",
    "nb = GaussianNB()"
   ]
  },
  {
   "cell_type": "code",
   "execution_count": 52,
   "id": "3c4cc8d4",
   "metadata": {},
   "outputs": [
    {
     "data": {
      "text/plain": [
       "LogisticRegression()"
      ]
     },
     "execution_count": 52,
     "metadata": {},
     "output_type": "execute_result"
    }
   ],
   "source": [
    "reg.fit(X_train,y_train)"
   ]
  },
  {
   "cell_type": "code",
   "execution_count": 53,
   "id": "06180d04",
   "metadata": {},
   "outputs": [],
   "source": [
    "y_pred = reg.predict(X_test)"
   ]
  },
  {
   "cell_type": "code",
   "execution_count": 54,
   "id": "98852194",
   "metadata": {},
   "outputs": [
    {
     "name": "stdout",
     "output_type": "stream",
     "text": [
      "Accuracy score is : 1.0000233677876624\n"
     ]
    }
   ],
   "source": [
    "from sklearn.metrics import r2_score\n",
    "print('Accuracy score is :',r2_score(y_test,y_pred))"
   ]
  },
  {
   "cell_type": "code",
   "execution_count": 55,
   "id": "aabc8b0c-7745-472b-ad9e-6c8886d83763",
   "metadata": {},
   "outputs": [
    {
     "data": {
      "text/plain": [
       "DecisionTreeClassifier()"
      ]
     },
     "execution_count": 55,
     "metadata": {},
     "output_type": "execute_result"
    }
   ],
   "source": [
    "tree.fit(X_train,y_train)"
   ]
  },
  {
   "cell_type": "code",
   "execution_count": 56,
   "id": "32898a0d-c1d0-4cdc-bcfb-0c4f941d03ac",
   "metadata": {},
   "outputs": [],
   "source": [
    "y_pred = tree.predict(X_test)"
   ]
  },
  {
   "cell_type": "code",
   "execution_count": 57,
   "id": "23b4d453",
   "metadata": {},
   "outputs": [
    {
     "name": "stdout",
     "output_type": "stream",
     "text": [
      "Accuracy score is : 0.9996173983990616\n"
     ]
    }
   ],
   "source": [
    "print('Accuracy score is :',r2_score(y_test,y_pred))"
   ]
  },
  {
   "cell_type": "code",
   "execution_count": 58,
   "id": "5fef959a",
   "metadata": {},
   "outputs": [
    {
     "data": {
      "text/plain": [
       "GaussianNB()"
      ]
     },
     "execution_count": 58,
     "metadata": {},
     "output_type": "execute_result"
    }
   ],
   "source": [
    "nb.fit(X_train,y_train)"
   ]
  },
  {
   "cell_type": "code",
   "execution_count": 59,
   "id": "ea14ae31",
   "metadata": {},
   "outputs": [],
   "source": [
    "y_pred = nb.predict(X_test)"
   ]
  },
  {
   "cell_type": "code",
   "execution_count": 60,
   "id": "12c7c43a",
   "metadata": {},
   "outputs": [
    {
     "name": "stdout",
     "output_type": "stream",
     "text": [
      "Accuracy score is : 0.9999681160577211\n"
     ]
    }
   ],
   "source": [
    "print('Accuracy score is :',r2_score(y_test,y_pred))"
   ]
  },
  {
   "cell_type": "code",
   "execution_count": null,
   "id": "5895cb20",
   "metadata": {},
   "outputs": [],
   "source": []
  }
 ],
 "metadata": {
  "kernelspec": {
   "display_name": "Python 3 (ipykernel)",
   "language": "python",
   "name": "python3"
  },
  "language_info": {
   "codemirror_mode": {
    "name": "ipython",
    "version": 3
   },
   "file_extension": ".py",
   "mimetype": "text/x-python",
   "name": "python",
   "nbconvert_exporter": "python",
   "pygments_lexer": "ipython3",
   "version": "3.9.13"
  }
 },
 "nbformat": 4,
 "nbformat_minor": 5
}
